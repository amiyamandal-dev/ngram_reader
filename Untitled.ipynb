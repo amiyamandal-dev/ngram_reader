{
 "cells": [
  {
   "cell_type": "code",
   "execution_count": 1,
   "id": "447d4b96-0f11-4ac7-a1cd-ad30f36dec26",
   "metadata": {},
   "outputs": [],
   "source": [
    "from ngram_reader import search_from_file_all_possible_combination_rayon"
   ]
  },
  {
   "cell_type": "code",
   "execution_count": 2,
   "id": "83889571-d8d5-41ec-b4d6-85eb51d4d754",
   "metadata": {},
   "outputs": [],
   "source": [
    "k = [\"hello {{word}} united\", \"united {{word}} care\"]"
   ]
  },
  {
   "cell_type": "code",
   "execution_count": 5,
   "id": "87d0f9ce-ee6e-4da1-b952-1cf8561886de",
   "metadata": {},
   "outputs": [
    {
     "name": "stdout",
     "output_type": "stream",
     "text": [
      "CPU times: user 27.7 s, sys: 39.5 ms, total: 27.8 s\n",
      "Wall time: 7.57 s\n"
     ]
    },
    {
     "data": {
      "text/plain": [
       "{'population': {'hello population united': 0, 'united population care': 0},\n",
       " 'random2': {'hello random2 united': 0, 'united random2 care': 0},\n",
       " 'random3': {'hello random3 united': 0, 'united random3 care': 0},\n",
       " 'world': {'united world care': 0, 'hello world united': 0},\n",
       " 'random1': {'hello random1 united': 0, 'united random1 care': 0},\n",
       " 'health': {'hello health united': 0, 'united health care': 15}}"
      ]
     },
     "execution_count": 5,
     "metadata": {},
     "output_type": "execute_result"
    }
   ],
   "source": [
    "%%time\n",
    "search_from_file_all_possible_combination_rayon(k, \"corpus.txt\", [\"health\", \"world\", \"population\", \"random1\", \"random2\", \"random3\"])"
   ]
  },
  {
   "cell_type": "code",
   "execution_count": null,
   "id": "85fd964b-a84b-4acf-9112-448e12e2d681",
   "metadata": {},
   "outputs": [],
   "source": []
  }
 ],
 "metadata": {
  "kernelspec": {
   "display_name": "Python 3 (ipykernel)",
   "language": "python",
   "name": "python3"
  },
  "language_info": {
   "codemirror_mode": {
    "name": "ipython",
    "version": 3
   },
   "file_extension": ".py",
   "mimetype": "text/x-python",
   "name": "python",
   "nbconvert_exporter": "python",
   "pygments_lexer": "ipython3",
   "version": "3.9.12"
  }
 },
 "nbformat": 4,
 "nbformat_minor": 5
}
